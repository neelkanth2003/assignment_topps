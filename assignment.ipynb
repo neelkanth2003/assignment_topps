{
 "cells": [
  {
   "cell_type": "markdown",
   "id": "ddbf571a-6eaf-4e5d-83ef-241325901aca",
   "metadata": {},
   "source": [
    " What are the types of Applications"
   ]
  },
  {
   "cell_type": "code",
   "execution_count": null,
   "id": "b88d02bf-bcc3-4fac-99a8-d1162b5c7d0b",
   "metadata": {},
   "outputs": [],
   "source": [
    "\"\"\"\n",
    "An application (or app) is a computer software program designed to perform specific tasks for users.It's a tool that allows users to interact with \n",
    "computers to accomplish various goals.\n",
    "\"\"\""
   ]
  },
  {
   "cell_type": "markdown",
   "id": "7d88da73-126b-49cc-b867-7d473b509ee8",
   "metadata": {},
   "source": [
    "What is programing"
   ]
  },
  {
   "cell_type": "code",
   "execution_count": null,
   "id": "b6cb966b-942a-4282-bac9-2071e31741a9",
   "metadata": {},
   "outputs": [],
   "source": [
    "\"\"\"\n",
    "Programming is the process of creating instructions, or code, that a computer can understand and execute to perform specific\"\"\""
   ]
  },
  {
   "cell_type": "markdown",
   "id": "7ffb289c-bce7-4f55-a971-2d75f39255b6",
   "metadata": {},
   "source": [
    "What is python"
   ]
  },
  {
   "cell_type": "code",
   "execution_count": null,
   "id": "9826e904-d0cc-450a-950e-328bbd9b65bd",
   "metadata": {},
   "outputs": [],
   "source": [
    "\"\"\"\n",
    "Python is a versatile and powerful programming language known for its simplicity and readability\n",
    "it's used in every field such as data science , data analytics etc \n",
    "\"\"\""
   ]
  },
  {
   "cell_type": "markdown",
   "id": "5619e490-f3ee-498f-86cb-4b05f973b520",
   "metadata": {},
   "source": [
    "Write a Python program to check if a number is positive, negative or \n",
    "zero"
   ]
  },
  {
   "cell_type": "code",
   "execution_count": 3,
   "id": "944ec34f-353b-4ba0-8b6c-f7e1497631c7",
   "metadata": {},
   "outputs": [
    {
     "name": "stdin",
     "output_type": "stream",
     "text": [
      "enter the number:  3\n"
     ]
    },
    {
     "name": "stdout",
     "output_type": "stream",
     "text": [
      "a is positive\n"
     ]
    }
   ],
   "source": [
    "a = int(input(\"enter the number: \"))\n",
    "\n",
    "if a > 0:\n",
    "    print(\"a is positive\")\n",
    "elif a < 0:\n",
    "    print(\"a is negative\")\n",
    "else:\n",
    "    print(\"a is zero\")"
   ]
  },
  {
   "cell_type": "markdown",
   "id": "f124d785-04e4-44b2-939b-cbba2c0a42aa",
   "metadata": {},
   "source": [
    "Write a Python program to get the Factorial number of given numbers."
   ]
  },
  {
   "cell_type": "code",
   "execution_count": 7,
   "id": "9ef40877-f49e-4bdc-a69f-db396bb1bfff",
   "metadata": {},
   "outputs": [
    {
     "name": "stdin",
     "output_type": "stream",
     "text": [
      "enter the number:  5\n"
     ]
    },
    {
     "name": "stdout",
     "output_type": "stream",
     "text": [
      "5 is 120\n"
     ]
    }
   ],
   "source": [
    "a = int(input(\"enter the number: \"))\n",
    "factorial = 1 \n",
    "if a<0:\n",
    "    print(\"factorial do not exist for negative number\")\n",
    "else:\n",
    "    for i in range (1 , a+1):\n",
    "        factorial*=i\n",
    "    print( a, \"is\", factorial)"
   ]
  },
  {
   "cell_type": "code",
   "execution_count": 8,
   "id": "4eb66f68-1448-4cc1-9bfb-ed3fea775a1c",
   "metadata": {},
   "outputs": [
    {
     "name": "stdin",
     "output_type": "stream",
     "text": [
      "Enter the number of terms:  7\n"
     ]
    },
    {
     "name": "stdout",
     "output_type": "stream",
     "text": [
      "Fibonacci sequence:\n",
      "0\n",
      "1\n",
      "1\n",
      "2\n",
      "3\n",
      "5\n",
      "8\n"
     ]
    }
   ],
   "source": [
    "n = int(input(\"Enter the number of terms: \"))\n",
    "\n",
    "n1, n2 = 0, 1\n",
    "count = 0\n",
    "\n",
    "if n <= 0:\n",
    "   print(\"Please enter a positive integer\")\n",
    "elif n == 1:\n",
    "   print(\"Fibonacci sequence upto\",n,\":\")\n",
    "   print(n1)\n",
    "else:\n",
    "   print(\"Fibonacci sequence:\")\n",
    "   while count < n:\n",
    "       print(n1)\n",
    "       nth = n1 + n2\n",
    "       n1 = n2\n",
    "       n2 = nth\n",
    "       count += 1"
   ]
  },
  {
   "cell_type": "markdown",
   "id": "aa9414a3-e586-4b9e-af9a-eb9980723d0a",
   "metadata": {},
   "source": [
    "how memory is managed in python "
   ]
  },
  {
   "cell_type": "code",
   "execution_count": null,
   "id": "10fb1110-cfe2-485b-ac8f-3c887f763921",
   "metadata": {},
   "outputs": [],
   "source": [
    "\"\"\"\n",
    "Python handles memory management automatically,\n",
    "which is a significant advantage for developers. \n",
    "This automatic memory management is primarily handled by a mechanism called garbage collection\n",
    "\"\"\""
   ]
  },
  {
   "cell_type": "markdown",
   "id": "2b90f197-e1cf-47a4-adc4-2c61c8486d2d",
   "metadata": {},
   "source": [
    " Write python program that swap two number with temp variable \n",
    "and without temp variable"
   ]
  },
  {
   "cell_type": "code",
   "execution_count": 11,
   "id": "b242414f-29a3-4b55-b48e-8d1ecc91965d",
   "metadata": {},
   "outputs": [
    {
     "name": "stdout",
     "output_type": "stream",
     "text": [
      "After swapping:\n",
      "num1 = 20\n",
      "num2 = 11\n"
     ]
    }
   ],
   "source": [
    "num1 = 11\n",
    "num2 = 20\n",
    "\n",
    "a = num1\n",
    "num1 = num2\n",
    "num2 = a\n",
    "\n",
    "print(\"After swapping:\")\n",
    "print(\"num1 =\", num1)\n",
    "print(\"num2 =\", num2)\n"
   ]
  },
  {
   "cell_type": "markdown",
   "id": "d11cb70d-27ce-4d2c-8724-1cb2e8dbf1e4",
   "metadata": {},
   "source": [
    "Write a Python program to find whether a given number is even \n",
    "or odd, print out an appropriate message to the user. "
   ]
  },
  {
   "cell_type": "code",
   "execution_count": 12,
   "id": "66df0d3a-a682-4eb6-a227-29eed4e433a3",
   "metadata": {},
   "outputs": [
    {
     "name": "stdin",
     "output_type": "stream",
     "text": [
      "enter the number:  4\n"
     ]
    },
    {
     "name": "stdout",
     "output_type": "stream",
     "text": [
      "number is even\n"
     ]
    }
   ],
   "source": [
    "a = int(input(\"enter the number: \"))\n",
    "if a%2 == 0 :\n",
    "    print(\"number is even\")\n",
    "else:\n",
    "    print(\"number is odd\")"
   ]
  },
  {
   "cell_type": "markdown",
   "id": "0a943936-3bc8-4c2c-9a4d-9804b8af4bed",
   "metadata": {},
   "source": [
    "Write a Python program to test whether a passed letter is a vowel \n",
    "or not"
   ]
  },
  {
   "cell_type": "code",
   "execution_count": 14,
   "id": "52cf57eb-c724-4e93-a26d-2bf0f4e037f5",
   "metadata": {},
   "outputs": [
    {
     "name": "stdin",
     "output_type": "stream",
     "text": [
      "enter the letter w\n"
     ]
    },
    {
     "name": "stdout",
     "output_type": "stream",
     "text": [
      "w is not present \n"
     ]
    }
   ],
   "source": [
    "x = input(\"enter the letter\")\n",
    "if x in 'aeiouAEIOU':\n",
    "    print(x ,'is present')\n",
    "else:\n",
    "    print(x, 'is not present ')"
   ]
  },
  {
   "cell_type": "markdown",
   "id": "c0d2d6d6-ba61-4f01-a789-a1d73fd40fb0",
   "metadata": {},
   "source": [
    " Write a Python program to sum of three given integers. However, if \n",
    "two values are equal sum will be zero. "
   ]
  },
  {
   "cell_type": "code",
   "execution_count": 16,
   "id": "f5dd951a-2383-4a43-bc93-445933ccb967",
   "metadata": {},
   "outputs": [
    {
     "name": "stdin",
     "output_type": "stream",
     "text": [
      "enter the number 3\n",
      "enter the number 4\n",
      "enter the number 5\n"
     ]
    },
    {
     "name": "stdout",
     "output_type": "stream",
     "text": [
      "sum 12\n"
     ]
    }
   ],
   "source": [
    "a = int(input(\"enter the number\"))\n",
    "b = int(input(\"enter the number\"))\n",
    "c = int(input(\"enter the number\"))\n",
    "if a==b or b==c or a==c:\n",
    "    sum = 0\n",
    "else:\n",
    "    sum = a+b+c\n",
    "print(\"sum\", sum)"
   ]
  },
  {
   "cell_type": "markdown",
   "id": "0832e22a-8c2f-454e-aab9-a67e6f32b9c4",
   "metadata": {},
   "source": [
    " Write a Python program that will return true if the two given \n",
    "integer values are equal or their sum or difference is 5. "
   ]
  },
  {
   "cell_type": "code",
   "execution_count": 18,
   "id": "dcebaa54-e3d3-4704-9ea1-acf7925ab18f",
   "metadata": {},
   "outputs": [
    {
     "name": "stdin",
     "output_type": "stream",
     "text": [
      "Enter the first number:  4\n",
      "Enter the second number:  1\n"
     ]
    },
    {
     "name": "stdout",
     "output_type": "stream",
     "text": [
      "True\n"
     ]
    }
   ],
   "source": [
    "num1 = int(input(\"Enter the first number: \"))\n",
    "num2 = int(input(\"Enter the second number: \"))\n",
    "\n",
    "if num1 == num2 or abs(num1 - num2) == 5 or abs(num1 + num2) == 5:\n",
    "    print(\"True\")\n",
    "else:\n",
    "    print(\"False\")\n"
   ]
  },
  {
   "cell_type": "markdown",
   "id": "6e62c00e-b28e-4b45-9331-b38fecf9b67b",
   "metadata": {},
   "source": [
    " Write a python program to sum of the first n positive integers. "
   ]
  },
  {
   "cell_type": "code",
   "execution_count": 19,
   "id": "d509d93c-e5f7-4a1d-81da-7fd17c32fd8b",
   "metadata": {},
   "outputs": [
    {
     "name": "stdin",
     "output_type": "stream",
     "text": [
      "Enter the first number:  56\n"
     ]
    },
    {
     "name": "stdout",
     "output_type": "stream",
     "text": [
      "Sum of the first 7 positive integers: 1596\n"
     ]
    }
   ],
   "source": [
    "num = int(input(\"Enter the first number: \"))\n",
    "sum = 0\n",
    "for num in range (1 , num+1):\n",
    "    sum+=num\n",
    "print(\"Sum of the first\", n, \"positive integers:\", sum)"
   ]
  },
  {
   "cell_type": "markdown",
   "id": "ddcc2c47-fe7f-467c-8f08-9fd9cbd295ee",
   "metadata": {},
   "source": [
    " Write a Python program to calculate the length of a string"
   ]
  },
  {
   "cell_type": "code",
   "execution_count": null,
   "id": "a9c37c20-cd81-408f-baf5-62f040addd80",
   "metadata": {},
   "outputs": [],
   "source": [
    "string = input(\"Enter a string: \")\n",
    "\n",
    "char_count = {}\n",
    "\n",
    "for char in string:\n",
    "    char_count[char] = char_count.get(char, 0) + 1\n",
    "\n",
    "print(char_count)"
   ]
  },
  {
   "cell_type": "code",
   "execution_count": 20,
   "id": "2ab77494-5f05-4ca0-84f1-ad94d70efaeb",
   "metadata": {},
   "outputs": [
    {
     "name": "stdin",
     "output_type": "stream",
     "text": [
      "Enter a string:  hey\n"
     ]
    },
    {
     "name": "stdout",
     "output_type": "stream",
     "text": [
      "Length of the string: 3\n"
     ]
    }
   ],
   "source": [
    "string = input(\"Enter a string: \")\n",
    "\n",
    "length = len(string)\n",
    "\n",
    "print(\"Length of the string:\", length)"
   ]
  },
  {
   "cell_type": "markdown",
   "id": "d2f96e1d-0fe6-4cc8-8ec4-c55c14711a6d",
   "metadata": {},
   "source": [
    "Write a Python program to count the number of characters \n",
    "(character frequency) in a string "
   ]
  },
  {
   "cell_type": "code",
   "execution_count": 21,
   "id": "042c7d21-556f-4940-a4a7-b3167a31801b",
   "metadata": {},
   "outputs": [
    {
     "name": "stdin",
     "output_type": "stream",
     "text": [
      "Enter a string:  hello\n"
     ]
    },
    {
     "name": "stdout",
     "output_type": "stream",
     "text": [
      "{'h': 1, 'e': 1, 'l': 2, 'o': 1}\n"
     ]
    }
   ],
   "source": [
    "string = input(\"Enter a string: \")\n",
    "\n",
    "char_count = {}\n",
    "\n",
    "for char in string:\n",
    "    char_count[char] = char_count.get(char, 0) + 1\n",
    "\n",
    "print(char_count)"
   ]
  },
  {
   "cell_type": "code",
   "execution_count": null,
   "id": "e1f40c28-ec0a-437d-8357-94850bc32ef9",
   "metadata": {},
   "outputs": [],
   "source": []
  },
  {
   "cell_type": "code",
   "execution_count": 23,
   "id": "0477ea4a-cb85-4932-9ad6-95996076a465",
   "metadata": {},
   "outputs": [
    {
     "name": "stdin",
     "output_type": "stream",
     "text": [
      "Enter the string:  hello hi how hare hou\n",
      "Enter the substring to count:  h\n"
     ]
    },
    {
     "name": "stdout",
     "output_type": "stream",
     "text": [
      "The substring h occurs 5 times in the string.\n"
     ]
    }
   ],
   "source": [
    "string = input(\"Enter the string: \")\n",
    "substring = input(\"Enter the substring to count: \")\n",
    "\n",
    "count = string.count(substring)\n",
    "\n",
    "print(\"The substring\", substring, \"occurs\", count, \"times in the string.\")"
   ]
  },
  {
   "cell_type": "markdown",
   "id": "53bdc3a5-87e1-430d-ba32-3816244084e1",
   "metadata": {},
   "source": [
    "18) Write a Python program to count occurrences of a substring in a string. "
   ]
  },
  {
   "cell_type": "code",
   "execution_count": null,
   "id": "1ce98227-5ac0-48c9-93f6-d37ac9e9840a",
   "metadata": {},
   "outputs": [],
   "source": [
    "string = input(\"Enter the string: \")\n",
    "sub = input(\"Enter the substring to count: \")\n",
    "\n",
    "count = string.count(sub)\n",
    "\n",
    "print(\"The substring\", substring, \"occurs\", count, \"times in the string.\""
   ]
  },
  {
   "cell_type": "markdown",
   "id": "23e5e735-7d4c-46a5-ba86-716251740c5a",
   "metadata": {},
   "source": [
    "Write a Python program to get a single string from two given strings, \n",
    "separated by a space and swap the first two characters of each string. "
   ]
  },
  {
   "cell_type": "code",
   "execution_count": 25,
   "id": "adcfa98d-5694-4c38-b8fc-e452cf544185",
   "metadata": {},
   "outputs": [
    {
     "name": "stdin",
     "output_type": "stream",
     "text": [
      "Enter the first string:  hello\n",
      "Enter the second string:  hi\n"
     ]
    },
    {
     "name": "stdout",
     "output_type": "stream",
     "text": [
      "hello hi\n"
     ]
    }
   ],
   "source": [
    "str1 = input(\"Enter the first string: \")\n",
    "str2 = input(\"Enter the second string: \")\n",
    "\n",
    "\n",
    "\n",
    "result_string = str1 + \" \" + str2\n",
    "\n",
    "print(result_string)"
   ]
  },
  {
   "cell_type": "markdown",
   "id": "a0e03754-60bc-4f36-a365-70cc755b1c3a",
   "metadata": {},
   "source": [
    "Write a Python function to reverses a string if its length is a multiple \n",
    "of 4. "
   ]
  },
  {
   "cell_type": "code",
   "execution_count": null,
   "id": "31811770-1851-4180-afd0-18e80f402acb",
   "metadata": {},
   "outputs": [],
   "source": [
    "string = input(\"Enter a string: \")\n",
    "\n",
    "if len(string) % 4 == 0:\n",
    "    reversed_string = string[::-1]\n",
    "    print(\"Reversed string:\", reversed_string)\n",
    "else:\n",
    "    print(\"String length is not a multiple of 4. No reversal.\")"
   ]
  },
  {
   "cell_type": "markdown",
   "id": "60c1a1bd-22fa-40a4-a52c-3805251e2fe6",
   "metadata": {},
   "source": [
    " Write a Python program to add 'in' at the end of a given string (length \n",
    "should be at least 3). If the given string already ends with 'ing' then \n",
    "add 'ly' instead if the string length of the given string is less than 3, \n",
    "leave it unchanged. "
   ]
  },
  {
   "cell_type": "code",
   "execution_count": 1,
   "id": "e1f1c0a1-a454-4aed-b22d-452365d43473",
   "metadata": {},
   "outputs": [
    {
     "name": "stdin",
     "output_type": "stream",
     "text": [
      "Enter a string:  hello\n"
     ]
    },
    {
     "name": "stdout",
     "output_type": "stream",
     "text": [
      "helloing\n"
     ]
    }
   ],
   "source": [
    "def add_suffix(string):\n",
    "    if len(string) >= 3 and string[-3:] != 'ing':\n",
    "        return string + 'ing'\n",
    "    elif len(string) >= 3:\n",
    "        return string + 'ly'\n",
    "    else:\n",
    "        return string\n",
    "\n",
    "string = input(\"Enter a string: \")\n",
    "result = add_suffix(string)\n",
    "print(result)"
   ]
  },
  {
   "cell_type": "markdown",
   "id": "6f15a30d-1eac-47f7-9298-b6db10aa1300",
   "metadata": {},
   "source": [
    " Write a Python program to get a string made of the first 2 and the last \n",
    "2 chars from a given a string. If the string length is less than 2, return \n",
    "instead of the empty string. "
   ]
  },
  {
   "cell_type": "code",
   "execution_count": 2,
   "id": "4916e27f-160b-470e-90f1-1d567cea04f4",
   "metadata": {},
   "outputs": [
    {
     "name": "stdin",
     "output_type": "stream",
     "text": [
      "Enter a string:  hokok\n"
     ]
    },
    {
     "name": "stdout",
     "output_type": "stream",
     "text": [
      "hook\n"
     ]
    }
   ],
   "source": [
    "def get_first_last_chars(string):\n",
    "    if len(string) < 2:\n",
    "        return \"\"\n",
    "    else:\n",
    "        return string[:2] + string[-2:]\n",
    "\n",
    "string = input(\"Enter a string: \")\n",
    "result = get_first_last_chars(string)\n",
    "print(result)"
   ]
  },
  {
   "cell_type": "code",
   "execution_count": null,
   "id": "a1e97d36-2dd1-427e-b728-59e9de7243a6",
   "metadata": {},
   "outputs": [],
   "source": [
    "def insert_string_middle(string, insert_string):\n",
    "    \"\"\"\n",
    "    Inserts a string in the middle of another string.\n",
    "\n",
    "    Args:\n",
    "        string: The original string.\n",
    "        insert_string: The string to be inserted.\n",
    "\n",
    "    Returns:\n",
    "        The string with the inserted string in the middle.\n",
    "    \"\"\"\n",
    "\n",
    "    middle_index = len(string) // 2\n",
    "    return string[:middle_index] + insert_string + string[middle_index:]\n",
    "\n"
   ]
  },
  {
   "cell_type": "code",
   "execution_count": null,
   "id": "8e6b17b5-299f-40ca-ac14-45fb4e923274",
   "metadata": {},
   "outputs": [],
   "source": [
    "my_list = [1, 2, 3, 4, 5]\n",
    "reversed_list = my_list[::-1]\n",
    "print(reversed_list)  # Output: [5, 4, 3, 2, 1]"
   ]
  },
  {
   "cell_type": "code",
   "execution_count": null,
   "id": "884488b9-cdb0-45d6-8629-bc900277a87b",
   "metadata": {},
   "outputs": [],
   "source": [
    "my_list = [1, 2, 3, 4, 5]\n",
    "last_element = my_list.pop()\n",
    "print(last_element)  # Output: 5\n",
    "print(my_list)  # Output: [1, 2, 3, 4]"
   ]
  },
  {
   "cell_type": "code",
   "execution_count": null,
   "id": "f322dd9b-de12-45b2-9d41-b49dfacc2031",
   "metadata": {},
   "outputs": [],
   "source": [
    "it will acces 25"
   ]
  },
  {
   "cell_type": "code",
   "execution_count": 4,
   "id": "b9170b12-78d0-420d-9834-785583089bdc",
   "metadata": {},
   "outputs": [
    {
     "name": "stdout",
     "output_type": "stream",
     "text": [
      "[1, 2, 3, 4, 5, 6]\n"
     ]
    }
   ],
   "source": [
    "my_list = [1, 2, 3]\n",
    "my_list.append(4)  \n",
    "my_list.extend([5, 6]) \n",
    "print(my_list)"
   ]
  },
  {
   "cell_type": "code",
   "execution_count": null,
   "id": "d2507a0e-16a6-480a-9fe6-8d82f443b9e7",
   "metadata": {},
   "outputs": [],
   "source": [
    "def list_stats(numbers):\n",
    "    \"\"\"\n",
    "    Calculates the largest, smallest, and sum of numbers in a list.\n",
    "\n",
    "    Args:\n",
    "        numbers: A list of numbers.\n",
    "\n",
    "    Returns:\n",
    "        A tuple containing the largest number, smallest number, and sum.\n",
    "    \"\"\"\n",
    "\n",
    "    largest = max(numbers)\n",
    "    smallest = min(numbers)\n",
    "    total_sum = sum(numbers)\n",
    "    return largest, smallest, total_sum\n",
    "\n",
    "# Example usage:\n",
    "numbers = [10, 5, 20, 15, 8]\n",
    "largest, smallest, total_sum = list_stats(numbers)\n",
    "print(\"Largest:\", largest)\n",
    "print(\"Smallest:\", smallest)\n",
    "print(\"Sum:\", total_sum)"
   ]
  },
  {
   "cell_type": "code",
   "execution_count": 5,
   "id": "9395baf3-8667-4c02-9a0c-d8200d724099",
   "metadata": {},
   "outputs": [
    {
     "name": "stdout",
     "output_type": "stream",
     "text": [
      "3\n"
     ]
    }
   ],
   "source": [
    "def count_matching_strings(strings):\n",
    "    count = 0\n",
    "    for string in strings:\n",
    "        if len(string) >= 2 and string[0] == string[-1]:\n",
    "            count += 1\n",
    "    return count\n",
    "\n",
    "strings = [\"abc\", \"aba\", \"xyz\", \"xux\", \"121\"]\n",
    "result = count_matching_strings(strings)\n",
    "print(result)  "
   ]
  },
  {
   "cell_type": "code",
   "execution_count": 7,
   "id": "d13f46a8-e68a-4888-8b8d-e884b3d96274",
   "metadata": {},
   "outputs": [
    {
     "name": "stdout",
     "output_type": "stream",
     "text": [
      "[1, 2, 3, 4, 5]\n"
     ]
    }
   ],
   "source": [
    "def remove_duplicates(lst):\n",
    "    return list(set(lst))\n",
    "my_list = [1, 2, 3, 2, 1, 4, 5, 4]\n",
    "unique_list = remove_duplicates(my_list)\n",
    "print(unique_list)"
   ]
  },
  {
   "cell_type": "code",
   "execution_count": 8,
   "id": "4506747c-1f08-4893-8ddd-5878eec797ce",
   "metadata": {},
   "outputs": [
    {
     "name": "stdout",
     "output_type": "stream",
     "text": [
      "The list is empty\n"
     ]
    }
   ],
   "source": [
    "my_list = []  # Empty list\n",
    "if not my_list:\n",
    "    print(\"The list is empty\")\n",
    "else:\n",
    "    print(\"The list is not empty\")"
   ]
  },
  {
   "cell_type": "code",
   "execution_count": 9,
   "id": "3fd840ee-b466-4aa3-9e8f-e816c1c84569",
   "metadata": {},
   "outputs": [
    {
     "name": "stdout",
     "output_type": "stream",
     "text": [
      "False\n",
      "True\n"
     ]
    }
   ],
   "source": [
    "def have_common_members(list1, list2):\n",
    "    return len(set(list1) & set(list2)) > 0\n",
    "\n",
    "list1 = [1, 2, 3]\n",
    "list2 = [4, 5, 6]\n",
    "print(have_common_members(list1, list2))  \n",
    "\n",
    "list3 = [1, 2, 3]\n",
    "list4 = [3, 4, 5]\n",
    "print(have_common_members(list3, list4)) "
   ]
  },
  {
   "cell_type": "code",
   "execution_count": 10,
   "id": "c6e63576-afd6-4c15-ad52-db694030928f",
   "metadata": {},
   "outputs": [
    {
     "name": "stdout",
     "output_type": "stream",
     "text": [
      "[1, 4, 9, 16, 25, 676, 729, 784, 841, 900]\n"
     ]
    }
   ],
   "source": [
    "squares = [i**2 for i in range(1, 31)]\n",
    "print(squares[:5] + squares[-5:])  "
   ]
  },
  {
   "cell_type": "code",
   "execution_count": null,
   "id": "4e8e1b38-e9cb-47c2-be6e-898245e2eca2",
   "metadata": {},
   "outputs": [],
   "source": []
  },
  {
   "cell_type": "code",
   "execution_count": null,
   "id": "39c1022f-0348-4a7a-9983-cb5e6364bae7",
   "metadata": {},
   "outputs": [],
   "source": [
    "char_list = ['h', 'e', 'l', 'l', 'o']\n",
    "string = ''.join(char_list)\n",
    "print(string)  # Output: hello"
   ]
  },
  {
   "cell_type": "code",
   "execution_count": null,
   "id": "8b22130e-54ff-47bb-8991-9a1741cea6b6",
   "metadata": {},
   "outputs": [],
   "source": [
    "import random\n",
    "\n",
    "my_list = [1, 2, 3, 4, 5]\n",
    "random_item = random.choice(my_list)\n",
    "print(random_item)"
   ]
  },
  {
   "cell_type": "code",
   "execution_count": null,
   "id": "aacca18f-fe98-4c0a-ae00-a01b656ee618",
   "metadata": {},
   "outputs": [],
   "source": [
    "def second_smallest(numbers):\n",
    "    smallest = float('inf')\n",
    "    second_smallest = float('inf')\n",
    "    for num in numbers:\n",
    "        if num < smallest:\n",
    "            second_smallest = smallest\n",
    "            smallest = num\n",
    "        elif num < second_smallest:\n",
    "            second_smallest = num\n",
    "    return second_smallest\n",
    "\n",
    "my_list = [5, 2, 9, 1, 7]\n",
    "result = second_smallest(my_list)\n",
    "print(result) "
   ]
  },
  {
   "cell_type": "code",
   "execution_count": null,
   "id": "cf5b5c0b-e41a-487d-8fd8-8613074f6fa6",
   "metadata": {},
   "outputs": [],
   "source": [
    "my_list = [1, 2, 3, 2, 1, 4, 5, 4]\n",
    "unique_values = set(my_list)\n",
    "print(unique_values)  "
   ]
  },
  {
   "cell_type": "code",
   "execution_count": null,
   "id": "4f135fd4-d520-4025-b0ed-1f5a11619de2",
   "metadata": {},
   "outputs": [],
   "source": [
    "def contains_sublist(main_list, sublist):\n",
    "    for i in range(len(main_list) - len(sublist) + 1):\n",
    "        if main_list[i:i+len(sublist)] == sublist:\n",
    "            return True\n",
    "    return False\n",
    "\n",
    "main_list = [1, 2, 3, 4, 5, 6, 7, 8, 9, 10]\n",
    "sublist = [4, 5, 6]\n",
    "\n",
    "if contains_sublist(main_list, sublist):\n",
    "    print(\"Sublist found\")\n",
    "else:\n",
    "    print(\"Sublist not found\")"
   ]
  },
  {
   "cell_type": "code",
   "execution_count": null,
   "id": "92bc4097-857f-4fde-b399-78bab5db8d84",
   "metadata": {},
   "outputs": [],
   "source": [
    "my_list = [10, 20, 30, 40, 50]\n",
    "\n",
    "# Unpacking into individual variables\n",
    "a, b, c, d, e = my_list\n",
    "\n",
    "print(a, b, c, d, e)"
   ]
  },
  {
   "cell_type": "code",
   "execution_count": null,
   "id": "ea97f951-7ba7-4157-9e6a-86af559baca0",
   "metadata": {},
   "outputs": [],
   "source": [
    "my_tuple = (10, \"hello\", 3.14, True)\n",
    "print(my_tuple)"
   ]
  },
  {
   "cell_type": "code",
   "execution_count": 1,
   "id": "d58aa956-4112-4ba8-a161-d1ce40f376a7",
   "metadata": {},
   "outputs": [
    {
     "name": "stdout",
     "output_type": "stream",
     "text": [
      "(1, 3, 5)\n",
      "(2, 4, 6)\n"
     ]
    }
   ],
   "source": [
    "list_of_tuples = [(1, 2), (3, 4), (5, 6)]\n",
    "\n",
    "# Unzip using zip() and unpacking\n",
    "first_list, second_list = zip(*list_of_tuples)\n",
    "\n",
    "print(first_list)  \n",
    "print(second_list)  "
   ]
  },
  {
   "cell_type": "code",
   "execution_count": 2,
   "id": "e1acf33c-040e-490b-84ea-9d0604ea1278",
   "metadata": {},
   "outputs": [
    {
     "name": "stdout",
     "output_type": "stream",
     "text": [
      "{'a': 1, 'b': 2, 'c': 3}\n"
     ]
    }
   ],
   "source": [
    "list_of_tuples = [('a', 1), ('b', 2), ('c', 3)]\n",
    "my_dict = dict(list_of_tuples)\n",
    "print(my_dict)  "
   ]
  },
  {
   "cell_type": "code",
   "execution_count": null,
   "id": "2f075009-e8a7-40ab-9525-8492d4be8fb5",
   "metadata": {},
   "outputs": [],
   "source": [
    "my_dict = dict([('a', 1), ('b', 2), ('c', 3)])\n",
    "print(my_dict)  # Output: {'a': 1, 'b': 2, 'c': 3}"
   ]
  },
  {
   "cell_type": "code",
   "execution_count": 6,
   "id": "9848d615-0897-424e-96af-2b8cac8ed842",
   "metadata": {},
   "outputs": [
    {
     "name": "stdout",
     "output_type": "stream",
     "text": [
      "{'b': 1, 'c': 2, 'a': 3}\n",
      "{'a': 3, 'c': 2, 'b': 1}\n"
     ]
    }
   ],
   "source": [
    "my_dict = {'a': 3, 'b': 1, 'c': 2}\n",
    "\n",
    "# Sort by value (ascending)\n",
    "sorted_dict_asc = dict(sorted(my_dict.items(), key=lambda item: item[1]))\n",
    "print(sorted_dict_asc)  # Output: {'b': 1, 'c': 2, 'a': 3}\n",
    "\n",
    "# Sort by value (descending)\n",
    "sorted_dict_desc = dict(sorted(my_dict.items(), key=lambda item: item[1], reverse=True))\n",
    "print(sorted_dict_desc)  # Output: {'a': 3, 'c': 2, 'b': 1}"
   ]
  },
  {
   "cell_type": "code",
   "execution_count": 5,
   "id": "25d2269c-1b2f-4a90-8e56-a69745435640",
   "metadata": {},
   "outputs": [
    {
     "name": "stdout",
     "output_type": "stream",
     "text": [
      "{'a': 1, 'b': 2, 'c': 3, 'd': 4}\n"
     ]
    }
   ],
   "source": [
    "dict1 = {'a': 1, 'b': 2}\n",
    "dict2 = {'c': 3, 'd': 4}\n",
    "\n",
    "merged_dict = {**dict1, **dict2}\n",
    "print(merged_dict)  # Output: {'a': 1, 'b': 2, 'c': 3, 'd': 4}"
   ]
  },
  {
   "cell_type": "code",
   "execution_count": 4,
   "id": "e35c2fa8-4c28-4113-8bac-3858e8ade63d",
   "metadata": {},
   "outputs": [
    {
     "name": "stdout",
     "output_type": "stream",
     "text": [
      "Key 'b' exists in the dictionary.\n"
     ]
    }
   ],
   "source": [
    "my_dict = {'a': 1, 'b': 2, 'c': 3}\n",
    "key_to_check = 'b'\n",
    "\n",
    "if key_to_check in my_dict:\n",
    "    print(f\"Key '{key_to_check}' exists in the dictionary.\")\n",
    "else:\n",
    "    print(f\"Key '{key_to_check}' does not exist in the dictionary.\")"
   ]
  },
  {
   "cell_type": "code",
   "execution_count": 3,
   "id": "9ffde20c-7cc3-4f63-98a4-1078c9a030b0",
   "metadata": {},
   "outputs": [
    {
     "name": "stdout",
     "output_type": "stream",
     "text": [
      "Key: a, Value: 1\n",
      "Key: b, Value: 2\n",
      "Key: c, Value: 3\n",
      "Key: a, Value: 1\n",
      "Key: b, Value: 2\n",
      "Key: c, Value: 3\n",
      "Value: 1\n",
      "Value: 2\n",
      "Value: 3\n"
     ]
    }
   ],
   "source": [
    "my_dict = {'a': 1, 'b': 2, 'c': 3}\n",
    "\n",
    "# Using a for loop\n",
    "for key, value in my_dict.items():\n",
    "    print(f\"Key: {key}, Value: {value}\")\n",
    "\n",
    "# Using a for loop with keys\n",
    "for key in my_dict.keys():\n",
    "    print(f\"Key: {key}, Value: {my_dict[key]}\")\n",
    "\n",
    "# Using a for loop with values\n",
    "for value in my_dict.values():\n",
    "    print(f\"Value: {value}\")"
   ]
  },
  {
   "cell_type": "code",
   "execution_count": 7,
   "id": "989552e5-4d71-461e-8365-ce5e500c414e",
   "metadata": {},
   "outputs": [
    {
     "name": "stdout",
     "output_type": "stream",
     "text": [
      "{1: 1, 2: 4, 3: 9, 4: 16, 5: 25, 6: 36, 7: 49, 8: 64, 9: 81, 10: 100, 11: 121, 12: 144, 13: 169, 14: 196, 15: 225}\n"
     ]
    }
   ],
   "source": [
    "my_dict = {i: i**2 for i in range(1, 16)}\n",
    "print(my_dict)"
   ]
  },
  {
   "cell_type": "code",
   "execution_count": 8,
   "id": "93fcb3b7-a7ac-4846-949a-760a21b04168",
   "metadata": {},
   "outputs": [
    {
     "name": "stdout",
     "output_type": "stream",
     "text": [
      "Not all keys exist\n"
     ]
    }
   ],
   "source": [
    "def check_keys(my_dict, keys_to_check):\n",
    "    for key in keys_to_check:\n",
    "        if key not in my_dict:\n",
    "            return False\n",
    "    return True\n",
    "\n",
    "my_dict = {'a': 1, 'b': 2, 'c': 3}\n",
    "keys_to_check = ['a', 'c', 'd']\n",
    "\n",
    "if check_keys(my_dict, keys_to_check):\n",
    "    print(\"All keys exist\")\n",
    "else:\n",
    "    print(\"Not all keys exist\")"
   ]
  },
  {
   "cell_type": "code",
   "execution_count": 9,
   "id": "1ddd66a2-164b-4e1d-a04f-8fdd874c6d10",
   "metadata": {},
   "outputs": [
    {
     "name": "stdout",
     "output_type": "stream",
     "text": [
      "{'a': 1, 'b': 2, 'c': 3, 'd': 4}\n"
     ]
    }
   ],
   "source": [
    "dict1 = {'a': 1, 'b': 2}\n",
    "dict2 = {'c': 3, 'd': 4}\n",
    "\n",
    "merged_dict = {**dict1, **dict2}\n",
    "print(merged_dict)  # Output: {'a': 1, 'b': 2, 'c': 3, 'd': 4}"
   ]
  },
  {
   "cell_type": "code",
   "execution_count": 10,
   "id": "e5383fbc-2326-4da9-9037-85c912bbc3cf",
   "metadata": {},
   "outputs": [
    {
     "name": "stdout",
     "output_type": "stream",
     "text": [
      "{'a': 400, 'b': 400, 'c': 400, 'd': 300}\n"
     ]
    }
   ],
   "source": [
    "keys = ['a', 'b', 'c', 'd']\n",
    "values = [400, 400, 400, 300]\n",
    "\n",
    "my_dict = dict(zip(keys, values))\n",
    "print(my_dict)  # Output: {'a': 400, 'b': 400, 'c': 400, 'd': 300}"
   ]
  },
  {
   "cell_type": "code",
   "execution_count": 11,
   "id": "79df0355-1955-4485-b966-29ef7aaca93e",
   "metadata": {},
   "outputs": [
    {
     "name": "stdout",
     "output_type": "stream",
     "text": [
      "Counter({'a': 3, 'b': 2, 'd': 2, 'c': 1})\n"
     ]
    }
   ],
   "source": [
    "from collections import Counter\n",
    "\n",
    "my_list = ['a', 'b', 'a', 'c', 'd', 'a', 'b', 'd']\n",
    "char_counts = Counter(my_list)\n",
    "print(char_counts)  # Output: Counter({'a': 3, 'b': 2, 'd': 2, 'c': 1})"
   ]
  },
  {
   "cell_type": "code",
   "execution_count": 12,
   "id": "5d5df659-508d-4e68-9753-d3b70407544c",
   "metadata": {},
   "outputs": [
    {
     "name": "stdout",
     "output_type": "stream",
     "text": [
      "[15, 10, 8]\n"
     ]
    }
   ],
   "source": [
    "def top_3_values(my_dict):\n",
    "    sorted_values = sorted(my_dict.values(), reverse=True)\n",
    "    return sorted_values[:3]\n",
    "\n",
    "my_dict = {'a': 10, 'b': 5, 'c': 15, 'd': 8}\n",
    "top_3 = top_3_values(my_dict)\n",
    "print(top_3)  # Output: [15, 10, 8]"
   ]
  },
  {
   "cell_type": "code",
   "execution_count": 13,
   "id": "f8b53c96-cadd-4b6f-a40f-9093675ae980",
   "metadata": {},
   "outputs": [
    {
     "name": "stdout",
     "output_type": "stream",
     "text": [
      "[20, 15, 10]\n"
     ]
    }
   ],
   "source": [
    "my_dict = {'a': 10, 'b': 5, 'c': 15, 'd': 8, 'e': 20}\n",
    "\n",
    "# Sort the dictionary by values in descending order\n",
    "sorted_values = sorted(my_dict.values(), reverse=True)\n",
    "\n",
    "# Get the top 3 values\n",
    "top_3_values = sorted_values[:3]\n",
    "\n",
    "print(top_3_values)  # Output: [20, 15, 10]"
   ]
  },
  {
   "cell_type": "code",
   "execution_count": 14,
   "id": "f09a47da-e594-4652-8745-10b0c3bf36b6",
   "metadata": {},
   "outputs": [
    {
     "name": "stdout",
     "output_type": "stream",
     "text": [
      "Counter({'item1': 1150, 'item2': 300})\n"
     ]
    }
   ],
   "source": [
    "data = [{'item': 'item1', 'amount': 400}, {'item': 'item2', 'amount': 300}, {'item': 'item1', 'amount': 750}]\n",
    "\n",
    "from collections import Counter\n",
    "\n",
    "# Create a Counter object to count occurrences of items and their amounts\n",
    "item_counts = Counter()\n",
    "for item in data:\n",
    "    item_counts[item['item']] += item['amount']\n",
    "\n",
    "print(item_counts)  # Output: Counter({'item1': 1150, 'item2': 300})"
   ]
  },
  {
   "cell_type": "code",
   "execution_count": 15,
   "id": "ed877b20-8d1c-4842-b953-6d5a5d67b4a6",
   "metadata": {},
   "outputs": [
    {
     "name": "stdout",
     "output_type": "stream",
     "text": [
      "{'w': 1, '3': 1, 'r': 2, 'e': 2, 's': 1, 'o': 1, 'u': 1, 'c': 1}\n"
     ]
    }
   ],
   "source": [
    "string = \"w3resource\"\n",
    "char_count = {}\n",
    "\n",
    "for char in string:\n",
    "    char_count[char] = char_count.get(char, 0) + 1\n",
    "\n",
    "print(char_count)  # Output: {'w': 1, '3': 1, 'r': 2, 'e': 2, 's': 1, 'o': 1, 'u': 1, 'c': 1}"
   ]
  },
  {
   "cell_type": "code",
   "execution_count": 16,
   "id": "b25d57c3-d9a7-4d14-ba21-a464a0fcfea9",
   "metadata": {},
   "outputs": [
    {
     "name": "stdin",
     "output_type": "stream",
     "text": [
      "Enter a non-negative integer:  45\n"
     ]
    },
    {
     "name": "stdout",
     "output_type": "stream",
     "text": [
      "The factorial of 45 is 119622220865480194561963161495657715064383733760000000000\n"
     ]
    }
   ],
   "source": [
    "def factorial(n):\n",
    "    if n == 0:\n",
    "        return 1\n",
    "    else:\n",
    "        return n * factorial(n - 1)\n",
    "\n",
    "num = int(input(\"Enter a non-negative integer: \"))\n",
    "result = factorial(num)\n",
    "print(f\"The factorial of {num} is {result}\")"
   ]
  },
  {
   "cell_type": "code",
   "execution_count": 17,
   "id": "8a45984d-3e94-4b63-920d-a12bb452eabe",
   "metadata": {},
   "outputs": [
    {
     "name": "stdin",
     "output_type": "stream",
     "text": [
      "Enter a number:  23\n"
     ]
    },
    {
     "name": "stdout",
     "output_type": "stream",
     "text": [
      "23 is not in the range 10 to 20\n"
     ]
    }
   ],
   "source": [
    "def is_in_range(num, start, end):\n",
    "    return start <= num <= end\n",
    "\n",
    "num = int(input(\"Enter a number: \"))\n",
    "start_range = 10\n",
    "end_range = 20\n",
    "\n",
    "if is_in_range(num, start_range, end_range):\n",
    "    print(f\"{num} is in the range {start_range} to {end_range}\")\n",
    "else:\n",
    "    print(f\"{num} is not in the range {start_range} to {end_range}\")"
   ]
  },
  {
   "cell_type": "code",
   "execution_count": null,
   "id": "a8f2538c-951e-4aff-b92d-6413a1c92ae7",
   "metadata": {},
   "outputs": [],
   "source": [
    "def is_perfect_number(num):\n",
    "    sum_divisors = 0\n",
    "    for i in range(1, num):\n",
    "        if num % i == 0:\n",
    "            sum_divisors += i\n",
    "    return sum_divisors == num\n",
    "\n",
    "num = int(input(\"Enter a number: \"))\n",
    "if is_perfect_number(num):\n",
    "    print(f\"{num} is a perfect number\")\n",
    "else:\n",
    "    print(f\"{num} is not a perfect number\")"
   ]
  },
  {
   "cell_type": "code",
   "execution_count": null,
   "id": "16c6cecc-a213-415a-a3e0-12bdcabf6a68",
   "metadata": {},
   "outputs": [],
   "source": [
    "def is_palindrome(string):\n",
    "    return string == string[::-1]\n",
    "\n",
    "string = input(\"Enter a string: \")\n",
    "if is_palindrome(string):\n",
    "    print(f\"{string} is a palindrome\")\n",
    "else:\n",
    "    print(f\"{string} is not a palindrome\")"
   ]
  },
  {
   "cell_type": "code",
   "execution_count": null,
   "id": "d4c615c9-7d58-497e-b28e-e6674cf3eb65",
   "metadata": {},
   "outputs": [],
   "source": [
    "\"\"\"\n",
    "Built-in Functions: These functions are predefined in Python and can be used directly. Examples include print(), len(), input(), etc.\n",
    "User-Defined Functions: These functions are created by the programmer to perform specific tasks. They are defined using the def keyword.\n",
    "\"\"\""
   ]
  },
  {
   "cell_type": "code",
   "execution_count": 18,
   "id": "d630fa5e-09c5-4c9c-805a-acd6158159e4",
   "metadata": {},
   "outputs": [
    {
     "name": "stdout",
     "output_type": "stream",
     "text": [
      "4\n"
     ]
    }
   ],
   "source": [
    "import random\n",
    "\n",
    "my_list = [1, 2, 3, 4, 5]\n",
    "random_item = random.choice(my_list)\n",
    "print(random_item)  "
   ]
  },
  {
   "cell_type": "code",
   "execution_count": 19,
   "id": "0b51ce4a-9a9d-4123-b2c4-b4a707b37d39",
   "metadata": {},
   "outputs": [
    {
     "name": "stdout",
     "output_type": "stream",
     "text": [
      "7\n"
     ]
    }
   ],
   "source": [
    "import random\n",
    "\n",
    "random_number = random.randint(1, 10) \n",
    "print(random_number)"
   ]
  },
  {
   "cell_type": "code",
   "execution_count": 20,
   "id": "4020eb24-6076-4ae6-8c40-d98cb38f1d1d",
   "metadata": {},
   "outputs": [
    {
     "name": "stdout",
     "output_type": "stream",
     "text": [
      "4 0.6571164557451731 9.981134691831691\n"
     ]
    }
   ],
   "source": [
    "import random\n",
    "\n",
    "\n",
    "random_int = random.randint(0, 9)\n",
    "\n",
    "\n",
    "random_float = random.random()\n",
    "\n",
    "#\n",
    "random_float_range = random.uniform(5, 10)\n",
    "\n",
    "print(random_int, random_float, random_float_range)"
   ]
  },
  {
   "cell_type": "code",
   "execution_count": null,
   "id": "e808edcf-d05b-4662-b90f-1d350ecead66",
   "metadata": {},
   "outputs": [],
   "source": [
    "\"\"\"\n",
    "You can use the random.seed() function to set the seed value for the random number generator. \n",
    "This ensures that the same sequence of random numbers is generated each time you run the code with the same seed value\n",
    "\"\"\""
   ]
  },
  {
   "cell_type": "code",
   "execution_count": 21,
   "id": "eae763c7-3f13-459c-81f9-a4503a5f430e",
   "metadata": {},
   "outputs": [
    {
     "name": "stdout",
     "output_type": "stream",
     "text": [
      "2\n"
     ]
    }
   ],
   "source": [
    "import random\n",
    "\n",
    "random.seed(42) \n",
    "random_number = random.randint(1, 10)\n",
    "print(random_number)  "
   ]
  },
  {
   "cell_type": "code",
   "execution_count": 22,
   "id": "f8625573-3706-4dee-a3d5-cf96e42c435d",
   "metadata": {},
   "outputs": [
    {
     "name": "stdout",
     "output_type": "stream",
     "text": [
      "[2, 4, 5, 3, 1]\n"
     ]
    }
   ],
   "source": [
    "import random\n",
    "\n",
    "my_list = [1, 2, 3, 4, 5]\n",
    "random.shuffle(my_list)\n",
    "print(my_list) "
   ]
  },
  {
   "cell_type": "code",
   "execution_count": null,
   "id": "491b6f62-5e7a-4136-8b03-af2b293890d5",
   "metadata": {},
   "outputs": [],
   "source": [
    "file_object = open(filename, mode)"
   ]
  },
  {
   "cell_type": "code",
   "execution_count": null,
   "id": "a6a9ee3d-0695-4646-b59f-c4f104e0498a",
   "metadata": {},
   "outputs": [],
   "source": [
    "with open('my_file.txt', 'r') as file:\n",
    "    content = file.read()\n",
    "    print(content)"
   ]
  },
  {
   "cell_type": "code",
   "execution_count": null,
   "id": "bfaa89b2-d4e1-48b8-b909-d514007d77b3",
   "metadata": {},
   "outputs": [],
   "source": [
    "with open('my_file.txt', 'a') as file:\n",
    "    file.write(\"\\nThis is a new line of text.\")\n",
    "\n",
    "with open('my_file.txt', 'r') as file:\n",
    "    content = file.read()\n",
    "    print(content)"
   ]
  },
  {
   "cell_type": "code",
   "execution_count": null,
   "id": "14c5284a-c12f-4058-b8d7-e5be386e65e8",
   "metadata": {},
   "outputs": [],
   "source": [
    "n = 3  # Number of lines to read\n",
    "\n",
    "with open('my_file.txt', 'r') as file:\n",
    "    for i in range(n):\n",
    "        line = file.readline()\n",
    "        print(line.strip())"
   ]
  },
  {
   "cell_type": "code",
   "execution_count": null,
   "id": "cfdbedf1-0706-4bb4-8c74-8ee5207ce20a",
   "metadata": {},
   "outputs": [],
   "source": [
    "n = 3  # Number of lines to read\n",
    "\n",
    "with open('my_file.txt', 'r') as file:\n",
    "    lines = file.readlines()\n",
    "    last_n_lines = lines[-n:]\n",
    "    for line in last_n_lines:\n",
    "        print(line.strip())"
   ]
  },
  {
   "cell_type": "code",
   "execution_count": 25,
   "id": "32b127aa-3320-4e46-8cab-6ba4afb1e3ab",
   "metadata": {},
   "outputs": [
    {
     "ename": "FileNotFoundError",
     "evalue": "[Errno 2] No such file or directory: 'my_file.txt'",
     "output_type": "error",
     "traceback": [
      "\u001b[1;31m---------------------------------------------------------------------------\u001b[0m",
      "\u001b[1;31mFileNotFoundError\u001b[0m                         Traceback (most recent call last)",
      "Cell \u001b[1;32mIn[25], line 1\u001b[0m\n\u001b[1;32m----> 1\u001b[0m \u001b[38;5;28;01mwith\u001b[39;00m \u001b[38;5;28;43mopen\u001b[39;49m\u001b[43m(\u001b[49m\u001b[38;5;124;43m'\u001b[39;49m\u001b[38;5;124;43mmy_file.txt\u001b[39;49m\u001b[38;5;124;43m'\u001b[39;49m\u001b[43m,\u001b[49m\u001b[43m \u001b[49m\u001b[38;5;124;43m'\u001b[39;49m\u001b[38;5;124;43mr\u001b[39;49m\u001b[38;5;124;43m'\u001b[39;49m\u001b[43m)\u001b[49m \u001b[38;5;28;01mas\u001b[39;00m file:\n\u001b[0;32m      2\u001b[0m     lines \u001b[38;5;241m=\u001b[39m file\u001b[38;5;241m.\u001b[39mreadlines()\n\u001b[0;32m      3\u001b[0m     \u001b[38;5;28mprint\u001b[39m(lines)\n",
      "File \u001b[1;32m~\\AppData\\Local\\Programs\\Python\\Python312\\Lib\\site-packages\\IPython\\core\\interactiveshell.py:324\u001b[0m, in \u001b[0;36m_modified_open\u001b[1;34m(file, *args, **kwargs)\u001b[0m\n\u001b[0;32m    317\u001b[0m \u001b[38;5;28;01mif\u001b[39;00m file \u001b[38;5;129;01min\u001b[39;00m {\u001b[38;5;241m0\u001b[39m, \u001b[38;5;241m1\u001b[39m, \u001b[38;5;241m2\u001b[39m}:\n\u001b[0;32m    318\u001b[0m     \u001b[38;5;28;01mraise\u001b[39;00m \u001b[38;5;167;01mValueError\u001b[39;00m(\n\u001b[0;32m    319\u001b[0m         \u001b[38;5;124mf\u001b[39m\u001b[38;5;124m\"\u001b[39m\u001b[38;5;124mIPython won\u001b[39m\u001b[38;5;124m'\u001b[39m\u001b[38;5;124mt let you open fd=\u001b[39m\u001b[38;5;132;01m{\u001b[39;00mfile\u001b[38;5;132;01m}\u001b[39;00m\u001b[38;5;124m by default \u001b[39m\u001b[38;5;124m\"\u001b[39m\n\u001b[0;32m    320\u001b[0m         \u001b[38;5;124m\"\u001b[39m\u001b[38;5;124mas it is likely to crash IPython. If you know what you are doing, \u001b[39m\u001b[38;5;124m\"\u001b[39m\n\u001b[0;32m    321\u001b[0m         \u001b[38;5;124m\"\u001b[39m\u001b[38;5;124myou can use builtins\u001b[39m\u001b[38;5;124m'\u001b[39m\u001b[38;5;124m open.\u001b[39m\u001b[38;5;124m\"\u001b[39m\n\u001b[0;32m    322\u001b[0m     )\n\u001b[1;32m--> 324\u001b[0m \u001b[38;5;28;01mreturn\u001b[39;00m \u001b[43mio_open\u001b[49m\u001b[43m(\u001b[49m\u001b[43mfile\u001b[49m\u001b[43m,\u001b[49m\u001b[43m \u001b[49m\u001b[38;5;241;43m*\u001b[39;49m\u001b[43margs\u001b[49m\u001b[43m,\u001b[49m\u001b[43m \u001b[49m\u001b[38;5;241;43m*\u001b[39;49m\u001b[38;5;241;43m*\u001b[39;49m\u001b[43mkwargs\u001b[49m\u001b[43m)\u001b[49m\n",
      "\u001b[1;31mFileNotFoundError\u001b[0m: [Errno 2] No such file or directory: 'my_file.txt'"
     ]
    }
   ],
   "source": [
    "with open('my_file.txt', 'r') as file:\n",
    "    lines = file.readlines()\n",
    "    print(lines)"
   ]
  },
  {
   "cell_type": "code",
   "execution_count": null,
   "id": "4323f9d2-d9c3-4b6f-b9c3-eadc6f520220",
   "metadata": {},
   "outputs": [],
   "source": [
    "with open('my_file.txt', 'r') as file:\n",
    "    for line in file:\n",
    "        print(line.strip())"
   ]
  },
  {
   "cell_type": "code",
   "execution_count": null,
   "id": "4c455089-bbae-48f3-979d-891b66fceb08",
   "metadata": {},
   "outputs": [],
   "source": [
    "with open('my_file.txt', 'r') as file:\n",
    "    longest_word = \"\"\n",
    "    for line in file:\n",
    "        for word in line.split():\n",
    "            if len(word) > len(longest_word):\n",
    "                longest_word = word\n",
    "    print(\"Longest word:\", longest_word)"
   ]
  },
  {
   "cell_type": "code",
   "execution_count": null,
   "id": "753cb91e-e78f-4362-a767-b3124f9569aa",
   "metadata": {},
   "outputs": [],
   "source": [
    "with open('my_file.txt', 'r') as file:\n",
    "    line_count = 0\n",
    "    for line in file:\n",
    "        line_count += 1\n",
    "    print(\"Number of lines:\", line_count)"
   ]
  },
  {
   "cell_type": "code",
   "execution_count": null,
   "id": "1a2ae3b6-e4aa-448c-a98a-34495ddf1e21",
   "metadata": {},
   "outputs": [],
   "source": [
    "from collections import Counter\n",
    "\n",
    "with open('my_file.txt', 'r') as file:\n",
    "    words = file.read().split()\n",
    "    word_counts = Counter(words)\n",
    "    print(word_counts)"
   ]
  },
  {
   "cell_type": "code",
   "execution_count": null,
   "id": "fe92b71a-87e8-4e49-881b-8e23abc5bb69",
   "metadata": {},
   "outputs": [],
   "source": [
    "my_list = [1, 2, 3, 4, 5]\n",
    "\n",
    "with open('my_list.txt', 'w') as file:\n",
    "    for item in my_list:\n",
    "        file.write(str(item) + '\\n')"
   ]
  },
  {
   "cell_type": "code",
   "execution_count": null,
   "id": "a48a20da-9116-49a2-b19a-ee426d07e549",
   "metadata": {},
   "outputs": [],
   "source": [
    "with open('source_file.txt', 'r') as source:\n",
    "    with open('destination_file.txt', 'w') as destination:\n",
    "        for line in source:\n",
    "            destination.write(line)"
   ]
  },
  {
   "cell_type": "code",
   "execution_count": null,
   "id": "57653014-46a5-4d06-b89c-7df831364979",
   "metadata": {},
   "outputs": [],
   "source": [
    "\"\"\"\n",
    "Error: An error is a mistake in the code that prevents the program from running correctly.\n",
    "\n",
    "Exception Handling: It's a mechanism to handle errors gracefully and prevent the program from crashing. In Python, we use try, except, and finally blocks to handle exceptions\n",
    "\"\"\""
   ]
  },
  {
   "cell_type": "code",
   "execution_count": null,
   "id": "d523132a-4eae-4bcd-ade5-44dfc1f5de69",
   "metadata": {},
   "outputs": [],
   "source": [
    "\"\"\"\n",
    "The else block will execute only if the try block completes without raising any exceptions.\n",
    "\"\"\""
   ]
  },
  {
   "cell_type": "code",
   "execution_count": null,
   "id": "7cc1ac5c-c397-4d25-8dd7-869c3d87c72e",
   "metadata": {},
   "outputs": [],
   "source": [
    "\"\"\"\n",
    "Yes, you can use a single except block to handle multiple exceptions by specifying a tuple of exception types:\n",
    "\"\"\""
   ]
  },
  {
   "cell_type": "code",
   "execution_count": null,
   "id": "e37541e6-3a8a-4a71-bc3b-1e3a204dec43",
   "metadata": {},
   "outputs": [],
   "source": [
    "try:\n",
    "    \n",
    "except (ZeroDivisionError, ValueError) as e:\n",
    "    print(\"Error:\", e)\n",
    "\n"
   ]
  },
  {
   "cell_type": "code",
   "execution_count": null,
   "id": "92b03c81-bd8d-4972-8154-3824d8d56ea3",
   "metadata": {},
   "outputs": [],
   "source": [
    "\"\"\"\n",
    "The finally block is always executed, regardless of whether an exception is raised or not. It's often used for cleanup tasks like closing files or releasing resources\n",
    "\"\"\""
   ]
  },
  {
   "cell_type": "code",
   "execution_count": 26,
   "id": "d8b143ff-6437-44e4-a46e-7bd6a83c8763",
   "metadata": {},
   "outputs": [
    {
     "name": "stdout",
     "output_type": "stream",
     "text": [
      "Error: Division by zero\n",
      "This block will always execute\n"
     ]
    }
   ],
   "source": [
    "try:\n",
    "   \n",
    "    x = 10 / 0  \n",
    "except ZeroDivisionError:\n",
    "    print(\"Error: Division by zero\")\n",
    "finally:\n",
    "    print(\"This block will always execute\")"
   ]
  },
  {
   "cell_type": "code",
   "execution_count": null,
   "id": "f87e4c20-5d0a-4945-9a38-4a6768239826",
   "metadata": {},
   "outputs": [],
   "source": []
  }
 ],
 "metadata": {
  "kernelspec": {
   "display_name": "Python 3 (ipykernel)",
   "language": "python",
   "name": "python3"
  },
  "language_info": {
   "codemirror_mode": {
    "name": "ipython",
    "version": 3
   },
   "file_extension": ".py",
   "mimetype": "text/x-python",
   "name": "python",
   "nbconvert_exporter": "python",
   "pygments_lexer": "ipython3",
   "version": "3.12.6"
  }
 },
 "nbformat": 4,
 "nbformat_minor": 5
}
